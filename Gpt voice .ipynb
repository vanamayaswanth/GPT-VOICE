{
  "cells": [
    {
      "cell_type": "code",
      "execution_count": 4,
      "metadata": {
        "colab": {
          "base_uri": "https://localhost:8080/"
        },
        "id": "IcTa5xwIrgol",
        "outputId": "90b45ab5-b226-40ee-fdbe-4f774adc4e63"
      },
      "outputs": [
        {
          "name": "stdout",
          "output_type": "stream",
          "text": [
            "Looking in indexes: https://pypi.org/simple, https://us-python.pkg.dev/colab-wheels/public/simple/\n",
            "Collecting TTS\n",
            "  Downloading TTS-0.13.0-cp39-cp39-manylinux1_x86_64.whl (651 kB)\n",
            "\u001b[2K     \u001b[90m━━━━━━━━━━━━━━━━━━━━━━━━━━━━━━━━━━━━━━\u001b[0m \u001b[32m651.3/651.3 kB\u001b[0m \u001b[31m12.4 MB/s\u001b[0m eta \u001b[36m0:00:00\u001b[0m\n",
            "\u001b[?25hCollecting cython==0.29.28\n",
            "  Downloading Cython-0.29.28-cp39-cp39-manylinux_2_17_x86_64.manylinux2014_x86_64.manylinux_2_24_x86_64.whl (1.9 MB)\n",
            "\u001b[2K     \u001b[90m━━━━━━━━━━━━━━━━━━━━━━━━━━━━━━━━━━━━━━━━\u001b[0m \u001b[32m1.9/1.9 MB\u001b[0m \u001b[31m71.8 MB/s\u001b[0m eta \u001b[36m0:00:00\u001b[0m\n",
            "\u001b[?25hRequirement already satisfied: soundfile in /usr/local/lib/python3.9/dist-packages (from TTS) (0.12.1)\n",
            "Collecting pysbd\n",
            "  Downloading pysbd-0.3.4-py3-none-any.whl (71 kB)\n",
            "\u001b[2K     \u001b[90m━━━━━━━━━━━━━━━━━━━━━━━━━━━━━━━━━━━━━━━━\u001b[0m \u001b[32m71.1/71.1 kB\u001b[0m \u001b[31m10.7 MB/s\u001b[0m eta \u001b[36m0:00:00\u001b[0m\n",
            "\u001b[?25hRequirement already satisfied: tqdm in /usr/local/lib/python3.9/dist-packages (from TTS) (4.65.0)\n",
            "Requirement already satisfied: torch>=1.7 in /usr/local/lib/python3.9/dist-packages (from TTS) (2.0.0+cu118)\n",
            "Requirement already satisfied: fsspec>=2021.04.0 in /usr/local/lib/python3.9/dist-packages (from TTS) (2023.3.0)\n",
            "Collecting anyascii\n",
            "  Downloading anyascii-0.3.2-py3-none-any.whl (289 kB)\n",
            "\u001b[2K     \u001b[90m━━━━━━━━━━━━━━━━━━━━━━━━━━━━━━━━━━━━━━\u001b[0m \u001b[32m289.9/289.9 kB\u001b[0m \u001b[31m30.7 MB/s\u001b[0m eta \u001b[36m0:00:00\u001b[0m\n",
            "\u001b[?25hRequirement already satisfied: packaging in /usr/local/lib/python3.9/dist-packages (from TTS) (23.0)\n",
            "Requirement already satisfied: torchaudio in /usr/local/lib/python3.9/dist-packages (from TTS) (2.0.1+cu118)\n",
            "Collecting librosa==0.8.0\n",
            "  Downloading librosa-0.8.0.tar.gz (183 kB)\n",
            "\u001b[2K     \u001b[90m━━━━━━━━━━━━━━━━━━━━━━━━━━━━━━━━━━━━━━\u001b[0m \u001b[32m183.9/183.9 kB\u001b[0m \u001b[31m25.5 MB/s\u001b[0m eta \u001b[36m0:00:00\u001b[0m\n",
            "\u001b[?25h  Preparing metadata (setup.py) ... \u001b[?25l\u001b[?25hdone\n",
            "Collecting coqpit>=0.0.16\n",
            "  Downloading coqpit-0.0.17-py3-none-any.whl (13 kB)\n",
            "Collecting umap-learn==0.5.1\n",
            "  Downloading umap-learn-0.5.1.tar.gz (80 kB)\n",
            "\u001b[2K     \u001b[90m━━━━━━━━━━━━━━━━━━━━━━━━━━━━━━━━━━━━━━━━\u001b[0m \u001b[32m80.9/80.9 kB\u001b[0m \u001b[31m12.0 MB/s\u001b[0m eta \u001b[36m0:00:00\u001b[0m\n",
            "\u001b[?25h  Preparing metadata (setup.py) ... \u001b[?25l\u001b[?25hdone\n",
            "Requirement already satisfied: flask in /usr/local/lib/python3.9/dist-packages (from TTS) (2.2.3)\n",
            "Requirement already satisfied: numba==0.56.4 in /usr/local/lib/python3.9/dist-packages (from TTS) (0.56.4)\n",
            "Collecting jamo\n",
            "  Downloading jamo-0.4.1-py3-none-any.whl (9.5 kB)\n",
            "Requirement already satisfied: aiohttp in /usr/local/lib/python3.9/dist-packages (from TTS) (3.8.4)\n",
            "Requirement already satisfied: pandas in /usr/local/lib/python3.9/dist-packages (from TTS) (1.5.3)\n",
            "Collecting g2pkk>=0.1.1\n",
            "  Downloading g2pkk-0.1.2-py3-none-any.whl (25 kB)\n",
            "Requirement already satisfied: matplotlib in /usr/local/lib/python3.9/dist-packages (from TTS) (3.7.1)\n",
            "Collecting mecab-python3==1.0.5\n",
            "  Downloading mecab_python3-1.0.5-cp39-cp39-manylinux_2_17_x86_64.manylinux2014_x86_64.whl (581 kB)\n",
            "\u001b[2K     \u001b[90m━━━━━━━━━━━━━━━━━━━━━━━━━━━━━━━━━━━━━━\u001b[0m \u001b[32m581.0/581.0 kB\u001b[0m \u001b[31m53.9 MB/s\u001b[0m eta \u001b[36m0:00:00\u001b[0m\n",
            "\u001b[?25hRequirement already satisfied: scipy>=1.4.0 in /usr/local/lib/python3.9/dist-packages (from TTS) (1.10.1)\n",
            "Collecting numpy==1.21.6\n",
            "  Downloading numpy-1.21.6-cp39-cp39-manylinux_2_12_x86_64.manylinux2010_x86_64.whl (15.7 MB)\n",
            "\u001b[2K     \u001b[90m━━━━━━━━━━━━━━━━━━━━━━━━━━━━━━━━━━━━━━━━\u001b[0m \u001b[32m15.7/15.7 MB\u001b[0m \u001b[31m94.1 MB/s\u001b[0m eta \u001b[36m0:00:00\u001b[0m\n",
            "\u001b[?25hRequirement already satisfied: jieba in /usr/local/lib/python3.9/dist-packages (from TTS) (0.42.1)\n",
            "Collecting gruut[de]==2.2.3\n",
            "  Downloading gruut-2.2.3.tar.gz (73 kB)\n",
            "\u001b[2K     \u001b[90m━━━━━━━━━━━━━━━━━━━━━━━━━━━━━━━━━━━━━━━━\u001b[0m \u001b[32m73.5/73.5 kB\u001b[0m \u001b[31m8.9 MB/s\u001b[0m eta \u001b[36m0:00:00\u001b[0m\n",
            "\u001b[?25h  Preparing metadata (setup.py) ... \u001b[?25l\u001b[?25hdone\n",
            "Collecting unidic-lite==1.0.8\n",
            "  Downloading unidic-lite-1.0.8.tar.gz (47.4 MB)\n",
            "\u001b[2K     \u001b[90m━━━━━━━━━━━━━━━━━━━━━━━━━━━━━━━━━━━━━━━━\u001b[0m \u001b[32m47.4/47.4 MB\u001b[0m \u001b[31m13.9 MB/s\u001b[0m eta \u001b[36m0:00:00\u001b[0m\n",
            "\u001b[?25h  Preparing metadata (setup.py) ... \u001b[?25l\u001b[?25hdone\n",
            "Collecting trainer==0.0.20\n",
            "  Downloading trainer-0.0.20-py3-none-any.whl (45 kB)\n",
            "\u001b[2K     \u001b[90m━━━━━━━━━━━━━━━━━━━━━━━━━━━━━━━━━━━━━━━━\u001b[0m \u001b[32m45.2/45.2 kB\u001b[0m \u001b[31m6.0 MB/s\u001b[0m eta \u001b[36m0:00:00\u001b[0m\n",
            "\u001b[?25hCollecting inflect==5.6.0\n",
            "  Downloading inflect-5.6.0-py3-none-any.whl (33 kB)\n",
            "Requirement already satisfied: pyyaml in /usr/local/lib/python3.9/dist-packages (from TTS) (6.0)\n",
            "Collecting pypinyin\n",
            "  Downloading pypinyin-0.48.0-py2.py3-none-any.whl (1.4 MB)\n",
            "\u001b[2K     \u001b[90m━━━━━━━━━━━━━━━━━━━━━━━━━━━━━━━━━━━━━━━━\u001b[0m \u001b[32m1.4/1.4 MB\u001b[0m \u001b[31m59.8 MB/s\u001b[0m eta \u001b[36m0:00:00\u001b[0m\n",
            "\u001b[?25hRequirement already satisfied: nltk in /usr/local/lib/python3.9/dist-packages (from TTS) (3.8.1)\n",
            "Requirement already satisfied: Babel<3.0.0,>=2.8.0 in /usr/local/lib/python3.9/dist-packages (from gruut[de]==2.2.3->TTS) (2.12.1)\n",
            "Collecting dateparser~=1.1.0\n",
            "  Downloading dateparser-1.1.8-py2.py3-none-any.whl (293 kB)\n",
            "\u001b[2K     \u001b[90m━━━━━━━━━━━━━━━━━━━━━━━━━━━━━━━━━━━━━━\u001b[0m \u001b[32m293.8/293.8 kB\u001b[0m \u001b[31m31.4 MB/s\u001b[0m eta \u001b[36m0:00:00\u001b[0m\n",
            "\u001b[?25hCollecting gruut-ipa<1.0,>=0.12.0\n",
            "  Downloading gruut-ipa-0.13.0.tar.gz (101 kB)\n",
            "\u001b[2K     \u001b[90m━━━━━━━━━━━━━━━━━━━━━━━━━━━━━━━━━━━━━━\u001b[0m \u001b[32m101.6/101.6 kB\u001b[0m \u001b[31m15.9 MB/s\u001b[0m eta \u001b[36m0:00:00\u001b[0m\n",
            "\u001b[?25h  Preparing metadata (setup.py) ... \u001b[?25l\u001b[?25hdone\n",
            "Collecting gruut_lang_en~=2.0.0\n",
            "  Downloading gruut_lang_en-2.0.0.tar.gz (15.2 MB)\n",
            "\u001b[2K     \u001b[90m━━━━━━━━━━━━━━━━━━━━━━━━━━━━━━━━━━━━━━━━\u001b[0m \u001b[32m15.2/15.2 MB\u001b[0m \u001b[31m92.5 MB/s\u001b[0m eta \u001b[36m0:00:00\u001b[0m\n",
            "\u001b[?25h  Preparing metadata (setup.py) ... \u001b[?25l\u001b[?25hdone\n",
            "Collecting jsonlines~=1.2.0\n",
            "  Downloading jsonlines-1.2.0-py2.py3-none-any.whl (7.6 kB)\n",
            "Collecting networkx<3.0.0,>=2.5.0\n",
            "  Downloading networkx-2.8.8-py3-none-any.whl (2.0 MB)\n",
            "\u001b[2K     \u001b[90m━━━━━━━━━━━━━━━━━━━━━━━━━━━━━━━━━━━━━━━━\u001b[0m \u001b[32m2.0/2.0 MB\u001b[0m \u001b[31m75.4 MB/s\u001b[0m eta \u001b[36m0:00:00\u001b[0m\n",
            "\u001b[?25hCollecting num2words<1.0.0,>=0.5.10\n",
            "  Downloading num2words-0.5.12-py3-none-any.whl (125 kB)\n",
            "\u001b[2K     \u001b[90m━━━━━━━━━━━━━━━━━━━━━━━━━━━━━━━━━━━━━━\u001b[0m \u001b[32m125.2/125.2 kB\u001b[0m \u001b[31m17.0 MB/s\u001b[0m eta \u001b[36m0:00:00\u001b[0m\n",
            "\u001b[?25hCollecting python-crfsuite~=0.9.7\n",
            "  Downloading python_crfsuite-0.9.9-cp39-cp39-manylinux_2_17_x86_64.manylinux2014_x86_64.whl (1.0 MB)\n",
            "\u001b[2K     \u001b[90m━━━━━━━━━━━━━━━━━━━━━━━━━━━━━━━━━━━━━━━━\u001b[0m \u001b[32m1.0/1.0 MB\u001b[0m \u001b[31m76.7 MB/s\u001b[0m eta \u001b[36m0:00:00\u001b[0m\n",
            "\u001b[?25hCollecting gruut_lang_de~=2.0.0\n",
            "  Downloading gruut_lang_de-2.0.0.tar.gz (18.1 MB)\n",
            "\u001b[2K     \u001b[90m━━━━━━━━━━━━━━━━━━━━━━━━━━━━━━━━━━━━━━━━\u001b[0m \u001b[32m18.1/18.1 MB\u001b[0m \u001b[31m18.1 MB/s\u001b[0m eta \u001b[36m0:00:00\u001b[0m\n",
            "\u001b[?25h  Preparing metadata (setup.py) ... \u001b[?25l\u001b[?25hdone\n",
            "Requirement already satisfied: audioread>=2.0.0 in /usr/local/lib/python3.9/dist-packages (from librosa==0.8.0->TTS) (3.0.0)\n",
            "Requirement already satisfied: scikit-learn!=0.19.0,>=0.14.0 in /usr/local/lib/python3.9/dist-packages (from librosa==0.8.0->TTS) (1.2.2)\n",
            "Requirement already satisfied: joblib>=0.14 in /usr/local/lib/python3.9/dist-packages (from librosa==0.8.0->TTS) (1.2.0)\n",
            "Requirement already satisfied: decorator>=3.0.0 in /usr/local/lib/python3.9/dist-packages (from librosa==0.8.0->TTS) (4.4.2)\n",
            "Collecting resampy>=0.2.2\n",
            "  Downloading resampy-0.4.2-py3-none-any.whl (3.1 MB)\n",
            "\u001b[2K     \u001b[90m━━━━━━━━━━━━━━━━━━━━━━━━━━━━━━━━━━━━━━━━\u001b[0m \u001b[32m3.1/3.1 MB\u001b[0m \u001b[31m74.5 MB/s\u001b[0m eta \u001b[36m0:00:00\u001b[0m\n",
            "\u001b[?25hRequirement already satisfied: pooch>=1.0 in /usr/local/lib/python3.9/dist-packages (from librosa==0.8.0->TTS) (1.6.0)\n",
            "Requirement already satisfied: setuptools in /usr/local/lib/python3.9/dist-packages (from numba==0.56.4->TTS) (67.6.1)\n",
            "Requirement already satisfied: llvmlite<0.40,>=0.39.0dev0 in /usr/local/lib/python3.9/dist-packages (from numba==0.56.4->TTS) (0.39.1)\n",
            "Collecting protobuf<3.20,>=3.9.2\n",
            "  Downloading protobuf-3.19.6-cp39-cp39-manylinux_2_17_x86_64.manylinux2014_x86_64.whl (1.1 MB)\n",
            "\u001b[2K     \u001b[90m━━━━━━━━━━━━━━━━━━━━━━━━━━━━━━━━━━━━━━━━\u001b[0m \u001b[32m1.1/1.1 MB\u001b[0m \u001b[31m69.5 MB/s\u001b[0m eta \u001b[36m0:00:00\u001b[0m\n",
            "\u001b[?25hCollecting tensorboardX\n",
            "  Downloading tensorboardX-2.6-py2.py3-none-any.whl (114 kB)\n",
            "\u001b[2K     \u001b[90m━━━━━━━━━━━━━━━━━━━━━━━━━━━━━━━━━━━━━━\u001b[0m \u001b[32m114.5/114.5 kB\u001b[0m \u001b[31m16.3 MB/s\u001b[0m eta \u001b[36m0:00:00\u001b[0m\n",
            "\u001b[?25hRequirement already satisfied: psutil in /usr/local/lib/python3.9/dist-packages (from trainer==0.0.20->TTS) (5.9.4)\n",
            "Collecting pynndescent>=0.5\n",
            "  Downloading pynndescent-0.5.8.tar.gz (1.1 MB)\n",
            "\u001b[2K     \u001b[90m━━━━━━━━━━━━━━━━━━━━━━━━━━━━━━━━━━━━━━━━\u001b[0m \u001b[32m1.1/1.1 MB\u001b[0m \u001b[31m88.9 MB/s\u001b[0m eta \u001b[36m0:00:00\u001b[0m\n",
            "\u001b[?25h  Preparing metadata (setup.py) ... \u001b[?25l\u001b[?25hdone\n",
            "Requirement already satisfied: cffi>=1.0 in /usr/local/lib/python3.9/dist-packages (from soundfile->TTS) (1.15.1)\n",
            "Requirement already satisfied: triton==2.0.0 in /usr/local/lib/python3.9/dist-packages (from torch>=1.7->TTS) (2.0.0)\n",
            "Requirement already satisfied: sympy in /usr/local/lib/python3.9/dist-packages (from torch>=1.7->TTS) (1.11.1)\n",
            "Requirement already satisfied: filelock in /usr/local/lib/python3.9/dist-packages (from torch>=1.7->TTS) (3.11.0)\n",
            "Requirement already satisfied: typing-extensions in /usr/local/lib/python3.9/dist-packages (from torch>=1.7->TTS) (4.5.0)\n",
            "Requirement already satisfied: jinja2 in /usr/local/lib/python3.9/dist-packages (from torch>=1.7->TTS) (3.1.2)\n",
            "Requirement already satisfied: lit in /usr/local/lib/python3.9/dist-packages (from triton==2.0.0->torch>=1.7->TTS) (16.0.0)\n",
            "Requirement already satisfied: cmake in /usr/local/lib/python3.9/dist-packages (from triton==2.0.0->torch>=1.7->TTS) (3.25.2)\n",
            "Requirement already satisfied: charset-normalizer<4.0,>=2.0 in /usr/local/lib/python3.9/dist-packages (from aiohttp->TTS) (2.0.12)\n",
            "Requirement already satisfied: attrs>=17.3.0 in /usr/local/lib/python3.9/dist-packages (from aiohttp->TTS) (22.2.0)\n",
            "Requirement already satisfied: multidict<7.0,>=4.5 in /usr/local/lib/python3.9/dist-packages (from aiohttp->TTS) (6.0.4)\n",
            "Requirement already satisfied: yarl<2.0,>=1.0 in /usr/local/lib/python3.9/dist-packages (from aiohttp->TTS) (1.8.2)\n",
            "Requirement already satisfied: aiosignal>=1.1.2 in /usr/local/lib/python3.9/dist-packages (from aiohttp->TTS) (1.3.1)\n",
            "Requirement already satisfied: frozenlist>=1.1.1 in /usr/local/lib/python3.9/dist-packages (from aiohttp->TTS) (1.3.3)\n",
            "Requirement already satisfied: async-timeout<5.0,>=4.0.0a3 in /usr/local/lib/python3.9/dist-packages (from aiohttp->TTS) (4.0.2)\n",
            "Requirement already satisfied: click>=8.0 in /usr/local/lib/python3.9/dist-packages (from flask->TTS) (8.1.3)\n",
            "Requirement already satisfied: importlib-metadata>=3.6.0 in /usr/local/lib/python3.9/dist-packages (from flask->TTS) (6.2.0)\n",
            "Requirement already satisfied: itsdangerous>=2.0 in /usr/local/lib/python3.9/dist-packages (from flask->TTS) (2.1.2)\n",
            "Requirement already satisfied: Werkzeug>=2.2.2 in /usr/local/lib/python3.9/dist-packages (from flask->TTS) (2.2.3)\n",
            "Requirement already satisfied: pillow>=6.2.0 in /usr/local/lib/python3.9/dist-packages (from matplotlib->TTS) (8.4.0)\n",
            "Requirement already satisfied: importlib-resources>=3.2.0 in /usr/local/lib/python3.9/dist-packages (from matplotlib->TTS) (5.12.0)\n",
            "Requirement already satisfied: contourpy>=1.0.1 in /usr/local/lib/python3.9/dist-packages (from matplotlib->TTS) (1.0.7)\n",
            "Requirement already satisfied: pyparsing>=2.3.1 in /usr/local/lib/python3.9/dist-packages (from matplotlib->TTS) (3.0.9)\n",
            "Requirement already satisfied: cycler>=0.10 in /usr/local/lib/python3.9/dist-packages (from matplotlib->TTS) (0.11.0)\n",
            "Requirement already satisfied: python-dateutil>=2.7 in /usr/local/lib/python3.9/dist-packages (from matplotlib->TTS) (2.8.2)\n",
            "Requirement already satisfied: kiwisolver>=1.0.1 in /usr/local/lib/python3.9/dist-packages (from matplotlib->TTS) (1.4.4)\n",
            "Requirement already satisfied: fonttools>=4.22.0 in /usr/local/lib/python3.9/dist-packages (from matplotlib->TTS) (4.39.3)\n",
            "Requirement already satisfied: regex>=2021.8.3 in /usr/local/lib/python3.9/dist-packages (from nltk->TTS) (2022.10.31)\n",
            "Requirement already satisfied: pytz>=2020.1 in /usr/local/lib/python3.9/dist-packages (from pandas->TTS) (2022.7.1)\n",
            "Requirement already satisfied: pycparser in /usr/local/lib/python3.9/dist-packages (from cffi>=1.0->soundfile->TTS) (2.21)\n",
            "Requirement already satisfied: tzlocal in /usr/local/lib/python3.9/dist-packages (from dateparser~=1.1.0->gruut[de]==2.2.3->TTS) (4.3)\n",
            "Requirement already satisfied: zipp>=0.5 in /usr/local/lib/python3.9/dist-packages (from importlib-metadata>=3.6.0->flask->TTS) (3.15.0)\n",
            "Requirement already satisfied: MarkupSafe>=2.0 in /usr/local/lib/python3.9/dist-packages (from jinja2->torch>=1.7->TTS) (2.1.2)\n",
            "Requirement already satisfied: six in /usr/local/lib/python3.9/dist-packages (from jsonlines~=1.2.0->gruut[de]==2.2.3->TTS) (1.16.0)\n",
            "Collecting docopt>=0.6.2\n",
            "  Downloading docopt-0.6.2.tar.gz (25 kB)\n",
            "  Preparing metadata (setup.py) ... \u001b[?25l\u001b[?25hdone\n",
            "Requirement already satisfied: appdirs>=1.3.0 in /usr/local/lib/python3.9/dist-packages (from pooch>=1.0->librosa==0.8.0->TTS) (1.4.4)\n",
            "Requirement already satisfied: requests>=2.19.0 in /usr/local/lib/python3.9/dist-packages (from pooch>=1.0->librosa==0.8.0->TTS) (2.27.1)\n",
            "Requirement already satisfied: threadpoolctl>=2.0.0 in /usr/local/lib/python3.9/dist-packages (from scikit-learn!=0.19.0,>=0.14.0->librosa==0.8.0->TTS) (3.1.0)\n",
            "Requirement already satisfied: idna>=2.0 in /usr/local/lib/python3.9/dist-packages (from yarl<2.0,>=1.0->aiohttp->TTS) (3.4)\n",
            "Requirement already satisfied: mpmath>=0.19 in /usr/local/lib/python3.9/dist-packages (from sympy->torch>=1.7->TTS) (1.3.0)\n",
            "Requirement already satisfied: certifi>=2017.4.17 in /usr/local/lib/python3.9/dist-packages (from requests>=2.19.0->pooch>=1.0->librosa==0.8.0->TTS) (2022.12.7)\n",
            "Requirement already satisfied: urllib3<1.27,>=1.21.1 in /usr/local/lib/python3.9/dist-packages (from requests>=2.19.0->pooch>=1.0->librosa==0.8.0->TTS) (1.26.15)\n",
            "Requirement already satisfied: pytz-deprecation-shim in /usr/local/lib/python3.9/dist-packages (from tzlocal->dateparser~=1.1.0->gruut[de]==2.2.3->TTS) (0.1.0.post0)\n",
            "Requirement already satisfied: tzdata in /usr/local/lib/python3.9/dist-packages (from pytz-deprecation-shim->tzlocal->dateparser~=1.1.0->gruut[de]==2.2.3->TTS) (2023.3)\n",
            "Building wheels for collected packages: librosa, umap-learn, unidic-lite, gruut-ipa, gruut_lang_de, gruut_lang_en, pynndescent, gruut, docopt\n",
            "  Building wheel for librosa (setup.py) ... \u001b[?25l\u001b[?25hdone\n",
            "  Created wheel for librosa: filename=librosa-0.8.0-py3-none-any.whl size=201393 sha256=c1b1c8bd645184febbf44e6ebb7cdd2e7f98c6c6d98a493277759be0141a4794\n",
            "  Stored in directory: /root/.cache/pip/wheels/a4/09/cc/728ed681f0fa5c37e0fbfc66d2ba07058dd995784f1f6554a8\n",
            "  Building wheel for umap-learn (setup.py) ... \u001b[?25l\u001b[?25hdone\n",
            "  Created wheel for umap-learn: filename=umap_learn-0.5.1-py3-none-any.whl size=76564 sha256=02c6f910a058b521c8182afda4cfb5287de2e4e6b073b2734526a6327bbe92d9\n",
            "  Stored in directory: /root/.cache/pip/wheels/43/2a/f2/52ebe2689efb2811a7f09527d3ab043b54467b43848639c1e1\n",
            "  Building wheel for unidic-lite (setup.py) ... \u001b[?25l\u001b[?25hdone\n",
            "  Created wheel for unidic-lite: filename=unidic_lite-1.0.8-py3-none-any.whl size=47658834 sha256=28219be15b43c7ab4008562da43954852f1ed59debd06c44ed3c16143094b454\n",
            "  Stored in directory: /root/.cache/pip/wheels/56/9c/4f/2c115e896b4b6c584039ca19de3581d333856782ef108cdc5c\n",
            "  Building wheel for gruut-ipa (setup.py) ... \u001b[?25l\u001b[?25hdone\n",
            "  Created wheel for gruut-ipa: filename=gruut_ipa-0.13.0-py3-none-any.whl size=104891 sha256=58955152198be30f6bcc4fa1806239f25e9be92b9fa656cbfdb04ac27d68faaa\n",
            "  Stored in directory: /root/.cache/pip/wheels/ab/22/10/9d98cfd0277a5876d450ca23902ecd0a41a5473efdcf309e6e\n",
            "  Building wheel for gruut_lang_de (setup.py) ... \u001b[?25l\u001b[?25hdone\n",
            "  Created wheel for gruut_lang_de: filename=gruut_lang_de-2.0.0-py3-none-any.whl size=18498199 sha256=6e9827c642916809ffdcd4ee539840f8ba8f75ae072e36103c8a8965ebbf7636\n",
            "  Stored in directory: /root/.cache/pip/wheels/b7/dc/3d/825e41f38b3d3161751f97c0a0b65d0cd95a5a4702a883c8f9\n",
            "  Building wheel for gruut_lang_en (setup.py) ... \u001b[?25l\u001b[?25hdone\n",
            "  Created wheel for gruut_lang_en: filename=gruut_lang_en-2.0.0-py3-none-any.whl size=15297195 sha256=1a9fbe725d87492e566716f9207a6d8572706ab2a14581337991013d83b2f225\n",
            "  Stored in directory: /root/.cache/pip/wheels/c0/29/5b/957782ce4d196eb0a6315836def9d7761ae85825a5747bcc97\n",
            "  Building wheel for pynndescent (setup.py) ... \u001b[?25l\u001b[?25hdone\n",
            "  Created wheel for pynndescent: filename=pynndescent-0.5.8-py3-none-any.whl size=55509 sha256=1caa3d73fd061c7e98c4032fc5d3bfed69cf853cdd9dc170cf48bb24ac572812\n",
            "  Stored in directory: /root/.cache/pip/wheels/b9/89/cc/59ab91ef5b21dc2ab3635528d7d227f49dfc9169905dcb959d\n",
            "  Building wheel for gruut (setup.py) ... \u001b[?25l\u001b[?25hdone\n",
            "  Created wheel for gruut: filename=gruut-2.2.3-py3-none-any.whl size=75817 sha256=213670f48b9746b3d5207eb5e43366023de01c48efbf1c8a7fa59937c7f305c8\n",
            "  Stored in directory: /root/.cache/pip/wheels/2e/9c/b4/a963ba6c181aa3d65370c3aa40c420a249ff02cef4c724c071\n",
            "  Building wheel for docopt (setup.py) ... \u001b[?25l\u001b[?25hdone\n",
            "  Created wheel for docopt: filename=docopt-0.6.2-py2.py3-none-any.whl size=13721 sha256=562b77ee7764236f4252110ae0ad02f8fc61e8612be6e0ad1960cc75773a05b8\n",
            "  Stored in directory: /root/.cache/pip/wheels/70/4a/46/1309fc853b8d395e60bafaf1b6df7845bdd82c95fd59dd8d2b\n",
            "Successfully built librosa umap-learn unidic-lite gruut-ipa gruut_lang_de gruut_lang_en pynndescent gruut docopt\n",
            "Installing collected packages: unidic-lite, python-crfsuite, mecab-python3, jamo, gruut_lang_en, gruut_lang_de, docopt, pysbd, pypinyin, protobuf, numpy, num2words, networkx, jsonlines, inflect, gruut-ipa, cython, coqpit, anyascii, tensorboardX, g2pkk, resampy, dateparser, pynndescent, librosa, gruut, umap-learn, trainer, TTS\n",
            "  Attempting uninstall: protobuf\n",
            "    Found existing installation: protobuf 3.20.3\n",
            "    Uninstalling protobuf-3.20.3:\n",
            "      Successfully uninstalled protobuf-3.20.3\n",
            "  Attempting uninstall: numpy\n",
            "    Found existing installation: numpy 1.22.4\n",
            "    Uninstalling numpy-1.22.4:\n",
            "      Successfully uninstalled numpy-1.22.4\n",
            "  Attempting uninstall: networkx\n",
            "    Found existing installation: networkx 3.1\n",
            "    Uninstalling networkx-3.1:\n",
            "      Successfully uninstalled networkx-3.1\n",
            "  Attempting uninstall: inflect\n",
            "    Found existing installation: inflect 6.0.4\n",
            "    Uninstalling inflect-6.0.4:\n",
            "      Successfully uninstalled inflect-6.0.4\n",
            "  Attempting uninstall: cython\n",
            "    Found existing installation: Cython 0.29.34\n",
            "    Uninstalling Cython-0.29.34:\n",
            "      Successfully uninstalled Cython-0.29.34\n",
            "  Attempting uninstall: librosa\n",
            "    Found existing installation: librosa 0.10.0.post2\n",
            "    Uninstalling librosa-0.10.0.post2:\n",
            "      Successfully uninstalled librosa-0.10.0.post2\n",
            "\u001b[31mERROR: pip's dependency resolver does not currently take into account all the packages that are installed. This behaviour is the source of the following dependency conflicts.\n",
            "tensorflow 2.12.0 requires numpy<1.24,>=1.22, but you have numpy 1.21.6 which is incompatible.\n",
            "tensorflow 2.12.0 requires protobuf!=4.21.0,!=4.21.1,!=4.21.2,!=4.21.3,!=4.21.4,!=4.21.5,<5.0.0dev,>=3.20.3, but you have protobuf 3.19.6 which is incompatible.\u001b[0m\u001b[31m\n",
            "\u001b[0mSuccessfully installed TTS-0.13.0 anyascii-0.3.2 coqpit-0.0.17 cython-0.29.28 dateparser-1.1.8 docopt-0.6.2 g2pkk-0.1.2 gruut-2.2.3 gruut-ipa-0.13.0 gruut_lang_de-2.0.0 gruut_lang_en-2.0.0 inflect-5.6.0 jamo-0.4.1 jsonlines-1.2.0 librosa-0.8.0 mecab-python3-1.0.5 networkx-2.8.8 num2words-0.5.12 numpy-1.21.6 protobuf-3.19.6 pynndescent-0.5.8 pypinyin-0.48.0 pysbd-0.3.4 python-crfsuite-0.9.9 resampy-0.4.2 tensorboardX-2.6 trainer-0.0.20 umap-learn-0.5.1 unidic-lite-1.0.8\n"
          ]
        }
      ],
      "source": [
        "!pip install TTS  # from PyPI"
      ]
    },
    {
      "cell_type": "code",
      "execution_count": 5,
      "metadata": {
        "colab": {
          "base_uri": "https://localhost:8080/"
        },
        "id": "7b4ZwQMir5Fa",
        "outputId": "1760bd42-0303-47f6-db77-84a92122e62b"
      },
      "outputs": [
        {
          "name": "stdout",
          "output_type": "stream",
          "text": [
            "Looking in indexes: https://pypi.org/simple, https://us-python.pkg.dev/colab-wheels/public/simple/\n",
            "Requirement already satisfied: numpy==1.21.6 in /usr/local/lib/python3.9/dist-packages (1.21.6)\n"
          ]
        }
      ],
      "source": [
        "!pip install -U numpy==1.21.6"
      ]
    },
    {
      "cell_type": "code",
      "execution_count": 6,
      "metadata": {
        "id": "198GARM4sXNg"
      },
      "outputs": [],
      "source": [
        "!pip install -q openai-whisper\n",
        "!pip install -q gradio\n",
        "!pip install -q openai"
      ]
    },
    {
      "cell_type": "code",
      "execution_count": 7,
      "metadata": {
        "id": "2w9Jz6nes86W"
      },
      "outputs": [],
      "source": [
        "import whisper\n",
        "import gradio as gr \n",
        "import openai\n",
        "from TTS.api import TTS"
      ]
    },
    {
      "cell_type": "code",
      "execution_count": 8,
      "metadata": {
        "colab": {
          "base_uri": "https://localhost:8080/"
        },
        "id": "dJs2pm4WuXVZ",
        "outputId": "99225752-13aa-41af-eef2-b61d34e807a4"
      },
      "outputs": [
        {
          "name": "stdout",
          "output_type": "stream",
          "text": [
            "No API token found for 🐸Coqui Studio voices - https://coqui.ai.\n",
            "Visit 🔗https://app.coqui.ai/account to get one.\n",
            "Set it as an environment variable `export COQUI_STUDIO_TOKEN=<token>`\n",
            "\n"
          ]
        },
        {
          "data": {
            "text/plain": [
              "['tts_models/multilingual/multi-dataset/your_tts',\n",
              " 'tts_models/bg/cv/vits',\n",
              " 'tts_models/cs/cv/vits',\n",
              " 'tts_models/da/cv/vits',\n",
              " 'tts_models/et/cv/vits',\n",
              " 'tts_models/ga/cv/vits',\n",
              " 'tts_models/en/ek1/tacotron2',\n",
              " 'tts_models/en/ljspeech/tacotron2-DDC',\n",
              " 'tts_models/en/ljspeech/tacotron2-DDC_ph',\n",
              " 'tts_models/en/ljspeech/glow-tts',\n",
              " 'tts_models/en/ljspeech/speedy-speech',\n",
              " 'tts_models/en/ljspeech/tacotron2-DCA',\n",
              " 'tts_models/en/ljspeech/vits',\n",
              " 'tts_models/en/ljspeech/vits--neon',\n",
              " 'tts_models/en/ljspeech/fast_pitch',\n",
              " 'tts_models/en/ljspeech/overflow',\n",
              " 'tts_models/en/ljspeech/neural_hmm',\n",
              " 'tts_models/en/vctk/vits',\n",
              " 'tts_models/en/vctk/fast_pitch',\n",
              " 'tts_models/en/sam/tacotron-DDC',\n",
              " 'tts_models/en/blizzard2013/capacitron-t2-c50',\n",
              " 'tts_models/en/blizzard2013/capacitron-t2-c150_v2',\n",
              " 'tts_models/es/mai/tacotron2-DDC',\n",
              " 'tts_models/es/css10/vits',\n",
              " 'tts_models/fr/mai/tacotron2-DDC',\n",
              " 'tts_models/fr/css10/vits',\n",
              " 'tts_models/uk/mai/glow-tts',\n",
              " 'tts_models/uk/mai/vits',\n",
              " 'tts_models/zh-CN/baker/tacotron2-DDC-GST',\n",
              " 'tts_models/nl/mai/tacotron2-DDC',\n",
              " 'tts_models/nl/css10/vits',\n",
              " 'tts_models/de/thorsten/tacotron2-DCA',\n",
              " 'tts_models/de/thorsten/vits',\n",
              " 'tts_models/de/thorsten/tacotron2-DDC',\n",
              " 'tts_models/de/css10/vits-neon',\n",
              " 'tts_models/ja/kokoro/tacotron2-DDC',\n",
              " 'tts_models/tr/common-voice/glow-tts',\n",
              " 'tts_models/it/mai_female/glow-tts',\n",
              " 'tts_models/it/mai_female/vits',\n",
              " 'tts_models/it/mai_male/glow-tts',\n",
              " 'tts_models/it/mai_male/vits',\n",
              " 'tts_models/ewe/openbible/vits',\n",
              " 'tts_models/hau/openbible/vits',\n",
              " 'tts_models/lin/openbible/vits',\n",
              " 'tts_models/tw_akuapem/openbible/vits',\n",
              " 'tts_models/tw_asante/openbible/vits',\n",
              " 'tts_models/yor/openbible/vits',\n",
              " 'tts_models/hu/css10/vits',\n",
              " 'tts_models/el/cv/vits',\n",
              " 'tts_models/fi/css10/vits',\n",
              " 'tts_models/hr/cv/vits',\n",
              " 'tts_models/lt/cv/vits',\n",
              " 'tts_models/lv/cv/vits',\n",
              " 'tts_models/mt/cv/vits',\n",
              " 'tts_models/pl/mai_female/vits',\n",
              " 'tts_models/pt/cv/vits',\n",
              " 'tts_models/ro/cv/vits',\n",
              " 'tts_models/sk/cv/vits',\n",
              " 'tts_models/sl/cv/vits',\n",
              " 'tts_models/sv/cv/vits',\n",
              " 'tts_models/ca/custom/vits',\n",
              " 'tts_models/fa/custom/glow-tts']"
            ]
          },
          "execution_count": 8,
          "metadata": {},
          "output_type": "execute_result"
        }
      ],
      "source": [
        "TTS.list_models()"
      ]
    },
    {
      "cell_type": "code",
      "execution_count": 9,
      "metadata": {
        "colab": {
          "base_uri": "https://localhost:8080/"
        },
        "id": "n-9vP6inuuI5",
        "outputId": "953c89a8-4b30-4cfc-9607-f3856180eef4"
      },
      "outputs": [
        {
          "name": "stdout",
          "output_type": "stream",
          "text": [
            "No API token found for 🐸Coqui Studio voices - https://coqui.ai.\n",
            "Visit 🔗https://app.coqui.ai/account to get one.\n",
            "Set it as an environment variable `export COQUI_STUDIO_TOKEN=<token>`\n",
            "\n",
            " > Downloading model to /root/.local/share/tts/tts_models--multilingual--multi-dataset--your_tts\n"
          ]
        },
        {
          "name": "stderr",
          "output_type": "stream",
          "text": [
            "100%|██████████| 425M/425M [00:11<00:00, 36.5MiB/s]\n"
          ]
        },
        {
          "name": "stdout",
          "output_type": "stream",
          "text": [
            " > Model's license - CC BY-NC-ND 4.0\n",
            " > Check https://creativecommons.org/licenses/by-nc-nd/4.0/ for more info.\n",
            " > Using model: vits\n",
            " > Setting up Audio Processor...\n",
            " | > sample_rate:16000\n",
            " | > resample:False\n",
            " | > num_mels:80\n",
            " | > log_func:np.log10\n",
            " | > min_level_db:0\n",
            " | > frame_shift_ms:None\n",
            " | > frame_length_ms:None\n",
            " | > ref_level_db:None\n",
            " | > fft_size:1024\n",
            " | > power:None\n",
            " | > preemphasis:0.0\n",
            " | > griffin_lim_iters:None\n",
            " | > signal_norm:None\n",
            " | > symmetric_norm:None\n",
            " | > mel_fmin:0\n",
            " | > mel_fmax:None\n",
            " | > pitch_fmin:None\n",
            " | > pitch_fmax:None\n",
            " | > spec_gain:20.0\n",
            " | > stft_pad_mode:reflect\n",
            " | > max_norm:1.0\n",
            " | > clip_norm:True\n",
            " | > do_trim_silence:False\n",
            " | > trim_db:60\n",
            " | > do_sound_norm:False\n",
            " | > do_amp_to_db_linear:True\n",
            " | > do_amp_to_db_mel:True\n",
            " | > do_rms_norm:False\n",
            " | > db_level:None\n",
            " | > stats_path:None\n",
            " | > base:10\n",
            " | > hop_length:256\n",
            " | > win_length:1024\n",
            " > Model fully restored. \n",
            " > Setting up Audio Processor...\n",
            " | > sample_rate:16000\n",
            " | > resample:False\n",
            " | > num_mels:64\n",
            " | > log_func:np.log10\n",
            " | > min_level_db:-100\n",
            " | > frame_shift_ms:None\n",
            " | > frame_length_ms:None\n",
            " | > ref_level_db:20\n",
            " | > fft_size:512\n",
            " | > power:1.5\n",
            " | > preemphasis:0.97\n",
            " | > griffin_lim_iters:60\n",
            " | > signal_norm:False\n",
            " | > symmetric_norm:False\n",
            " | > mel_fmin:0\n",
            " | > mel_fmax:8000.0\n",
            " | > pitch_fmin:1.0\n",
            " | > pitch_fmax:640.0\n",
            " | > spec_gain:20.0\n",
            " | > stft_pad_mode:reflect\n",
            " | > max_norm:4.0\n",
            " | > clip_norm:False\n",
            " | > do_trim_silence:False\n",
            " | > trim_db:60\n",
            " | > do_sound_norm:False\n",
            " | > do_amp_to_db_linear:True\n",
            " | > do_amp_to_db_mel:True\n",
            " | > do_rms_norm:True\n",
            " | > db_level:-27.0\n",
            " | > stats_path:None\n",
            " | > base:10\n",
            " | > hop_length:160\n",
            " | > win_length:400\n",
            " > External Speaker Encoder Loaded !!\n",
            " > initialization of language-embedding layers.\n",
            " > Model fully restored. \n",
            " > Setting up Audio Processor...\n",
            " | > sample_rate:16000\n",
            " | > resample:False\n",
            " | > num_mels:64\n",
            " | > log_func:np.log10\n",
            " | > min_level_db:-100\n",
            " | > frame_shift_ms:None\n",
            " | > frame_length_ms:None\n",
            " | > ref_level_db:20\n",
            " | > fft_size:512\n",
            " | > power:1.5\n",
            " | > preemphasis:0.97\n",
            " | > griffin_lim_iters:60\n",
            " | > signal_norm:False\n",
            " | > symmetric_norm:False\n",
            " | > mel_fmin:0\n",
            " | > mel_fmax:8000.0\n",
            " | > pitch_fmin:1.0\n",
            " | > pitch_fmax:640.0\n",
            " | > spec_gain:20.0\n",
            " | > stft_pad_mode:reflect\n",
            " | > max_norm:4.0\n",
            " | > clip_norm:False\n",
            " | > do_trim_silence:False\n",
            " | > trim_db:60\n",
            " | > do_sound_norm:False\n",
            " | > do_amp_to_db_linear:True\n",
            " | > do_amp_to_db_mel:True\n",
            " | > do_rms_norm:True\n",
            " | > db_level:-27.0\n",
            " | > stats_path:None\n",
            " | > base:10\n",
            " | > hop_length:160\n",
            " | > win_length:400\n"
          ]
        }
      ],
      "source": [
        "model_name = TTS.list_models()[0]\n",
        "tts = TTS(model_name)"
      ]
    },
    {
      "cell_type": "code",
      "execution_count": 12,
      "metadata": {
        "colab": {
          "base_uri": "https://localhost:8080/"
        },
        "id": "xI5VDluE6ic3",
        "outputId": "13539ca9-1fb7-494c-c222-d90640ed3dd2"
      },
      "outputs": [
        {
          "data": {
            "text/plain": [
              "(True, True)"
            ]
          },
          "execution_count": 12,
          "metadata": {},
          "output_type": "execute_result"
        }
      ],
      "source": [
        "tts.is_multi_speaker, tts.is_multi_lingual"
      ]
    },
    {
      "cell_type": "code",
      "execution_count": 17,
      "metadata": {
        "colab": {
          "base_uri": "https://localhost:8080/"
        },
        "id": "CcvTUCjH7EIt",
        "outputId": "1a93fea4-d6a7-4462-d7be-acd96469d5fb"
      },
      "outputs": [
        {
          "data": {
            "text/plain": [
              "['female-en-5',\n",
              " 'female-en-5\\n',\n",
              " 'female-pt-4\\n',\n",
              " 'male-en-2',\n",
              " 'male-en-2\\n',\n",
              " 'male-pt-3\\n']"
            ]
          },
          "execution_count": 17,
          "metadata": {},
          "output_type": "execute_result"
        }
      ],
      "source": [
        "tts.speakers"
      ]
    },
    {
      "cell_type": "code",
      "execution_count": 38,
      "metadata": {
        "colab": {
          "base_uri": "https://localhost:8080/",
          "height": 104
        },
        "id": "ggi36ephwUja",
        "outputId": "9eaab837-9a3c-45d5-d4b9-a041cb61c7cc"
      },
      "outputs": [
        {
          "name": "stdout",
          "output_type": "stream",
          "text": [
            " > Text splitted to sentences.\n",
            "['I love india 5999']\n",
            " > Processing time: 0.549736499786377\n",
            " > Real-time factor: 0.31217291299623906\n"
          ]
        },
        {
          "data": {
            "application/vnd.google.colaboratory.intrinsic+json": {
              "type": "string"
            },
            "text/plain": [
              "'output.wav'"
            ]
          },
          "execution_count": 38,
          "metadata": {},
          "output_type": "execute_result"
        }
      ],
      "source": [
        "tts.tts_to_file(text=\"I love india 5999\", file_path=\"output.wav\", speaker=tts.speakers[5], language='en')"
      ]
    },
    {
      "cell_type": "code",
      "execution_count": 39,
      "metadata": {
        "colab": {
          "base_uri": "https://localhost:8080/",
          "height": 75
        },
        "id": "6_75PFpAwdHK",
        "outputId": "6eed3142-e8fa-46d3-f9d9-afb34b2b40ac"
      },
      "outputs": [
        {
          "data": {
            "text/html": [
              "\n",
              "                <audio  controls=\"controls\" autoplay=\"autoplay\">\n",
              "                    <source src=\"data:audio/x-wav;base64,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\" type=\"audio/x-wav\" />\n",
              "                    Your browser does not support the audio element.\n",
              "                </audio>\n",
              "              "
            ],
            "text/plain": [
              "<IPython.lib.display.Audio object>"
            ]
          },
          "metadata": {},
          "output_type": "display_data"
        }
      ],
      "source": [
        "from IPython.display import Audio, display\n",
        "\n",
        "display(Audio('output.wav', autoplay=True))"
      ]
    },
    {
      "cell_type": "code",
      "execution_count": 22,
      "metadata": {
        "colab": {
          "base_uri": "https://localhost:8080/"
        },
        "id": "FD46ZUovwiRB",
        "outputId": "618adbdc-91d6-4a5d-eb49-73df2788559f"
      },
      "outputs": [
        {
          "name": "stderr",
          "output_type": "stream",
          "text": [
            "100%|██████████████████████████████████████| 1.42G/1.42G [00:09<00:00, 159MiB/s]\n"
          ]
        }
      ],
      "source": [
        "model = whisper.load_model(\"medium\")"
      ]
    },
    {
      "cell_type": "code",
      "execution_count": 23,
      "metadata": {
        "id": "UIAsYo2UwsyU"
      },
      "outputs": [],
      "source": [
        "openai.api_key =\"sk-Vnx8AYTEFPyzLrI2sL0rT3BlbkFJdBxJlpSbIMU**************\""
      ]
    },
    {
      "cell_type": "code",
      "execution_count": 31,
      "metadata": {
        "id": "LlE90wZIxKoo"
      },
      "outputs": [],
      "source": [
        "def voice_chat(user_voice):\n",
        "\n",
        "    messages = [\n",
        "    {\"role\": \"system\", \"content\": \"You are a kind helpful assistant.\"},\n",
        "    ]\n",
        "          \n",
        "    \n",
        "    user_message = model.transcribe(user_voice)[\"text\"]\n",
        "\n",
        "    #reply = user_message\n",
        "\n",
        "    messages.append(\n",
        "        {\"role\": \"user\", \"content\": user_message},\n",
        "    )\n",
        "\n",
        "    print(messages)\n",
        "\n",
        "    chat = openai.ChatCompletion.create(\n",
        "        model=\"gpt-3.5-turbo\", messages=messages\n",
        "    )\n",
        "    \n",
        "    reply = chat.choices[0].message.content\n",
        "    \n",
        "    messages.append({\"role\": \"assistant\", \"content\": reply})\n",
        "\n",
        "    tts.tts_to_file(text=reply, file_path=\"output.wav\", speaker=tts.speakers[1], language='en')\n",
        "\n",
        "    return(reply, 'output.wav')\n",
        "\n",
        "\n",
        "  "
      ]
    },
    {
      "cell_type": "code",
      "execution_count": 33,
      "metadata": {
        "colab": {
          "base_uri": "https://localhost:8080/",
          "height": 844
        },
        "id": "ovB2D7sQySde",
        "outputId": "7925b400-81d6-4968-d361-74176ed54d7a"
      },
      "outputs": [
        {
          "name": "stderr",
          "output_type": "stream",
          "text": [
            "/usr/local/lib/python3.9/dist-packages/gradio/inputs.py:319: UserWarning: Usage of gradio.inputs is deprecated, and will not be supported in the future, please import your components from gradio.components\n",
            "  warnings.warn(\n",
            "/usr/local/lib/python3.9/dist-packages/gradio/deprecation.py:40: UserWarning: `optional` parameter is deprecated, and it has no effect\n",
            "  warnings.warn(value)\n"
          ]
        },
        {
          "name": "stdout",
          "output_type": "stream",
          "text": [
            "Colab notebook detected. This cell will run indefinitely so that you can see errors and logs. To turn off, set debug=False in launch().\n",
            "Note: opening Chrome Inspector may crash demo inside Colab notebooks.\n",
            "\n",
            "To create a public link, set `share=True` in `launch()`.\n"
          ]
        },
        {
          "data": {
            "application/javascript": "(async (port, path, width, height, cache, element) => {\n                        if (!google.colab.kernel.accessAllowed && !cache) {\n                            return;\n                        }\n                        element.appendChild(document.createTextNode(''));\n                        const url = await google.colab.kernel.proxyPort(port, {cache});\n\n                        const external_link = document.createElement('div');\n                        external_link.innerHTML = `\n                            <div style=\"font-family: monospace; margin-bottom: 0.5rem\">\n                                Running on <a href=${new URL(path, url).toString()} target=\"_blank\">\n                                    https://localhost:${port}${path}\n                                </a>\n                            </div>\n                        `;\n                        element.appendChild(external_link);\n\n                        const iframe = document.createElement('iframe');\n                        iframe.src = new URL(path, url).toString();\n                        iframe.height = height;\n                        iframe.allow = \"autoplay; camera; microphone; clipboard-read; clipboard-write;\"\n                        iframe.width = width;\n                        iframe.style.border = 0;\n                        element.appendChild(iframe);\n                    })(7860, \"/\", \"100%\", 500, false, window.element)",
            "text/plain": [
              "<IPython.core.display.Javascript object>"
            ]
          },
          "metadata": {},
          "output_type": "display_data"
        },
        {
          "name": "stderr",
          "output_type": "stream",
          "text": [
            "/usr/local/lib/python3.9/dist-packages/gradio/processing_utils.py:180: UserWarning: Trying to convert audio automatically from int32 to 16-bit int format.\n",
            "  warnings.warn(warning.format(data.dtype))\n"
          ]
        },
        {
          "name": "stdout",
          "output_type": "stream",
          "text": [
            "[{'role': 'system', 'content': 'You are a kind helpful assistant.'}, {'role': 'user', 'content': ' explain python code to add two numbers using a function'}]\n",
            " > Text splitted to sentences.\n",
            "['Certainly!', \"Here's an example Python code that adds two numbers using a function:\", '\"\\'python', '# Define a function that takes two parameters and returns their sum', 'def add_numbers(num1, num2):', 'return num1 + num2', '# Call the function and print the result', 'result = add_numbers(5, 10)', 'print(result)', '\"\\'', \"In this code, we first define a function 'add_numbers' that takes two parameters 'num1' and 'num2'.\", \"The function then returns the sum of the two parameters using the '+' operator.\", \"We then call the function by passing two numerical arguments, '5' and '10'.\", \"The function returns their sum, which is stored in the variable 'result'.\", \"Finally, we print the value of 'result' using the 'print' function, which outputs '15'.\"]\n",
            " > Processing time: 15.29125714302063\n",
            " > Real-time factor: 0.30475848815188106\n",
            "Keyboard interruption in main thread... closing server.\n"
          ]
        },
        {
          "data": {
            "text/plain": []
          },
          "execution_count": 33,
          "metadata": {},
          "output_type": "execute_result"
        }
      ],
      "source": [
        "text_reply = gr.Textbox(label=\"ChatGPT Text\")\n",
        "voice_reply = gr.Audio('output.wav')\n",
        "\n",
        "gr.Interface(\n",
        "    title = 'AI Voice Assistant with ChatGPT AI for Ineuron',\n",
        "    fn=voice_chat, \n",
        "    inputs=[\n",
        "        gr.inputs.Audio(source=\"microphone\", type=\"filepath\")\n",
        "    ],\n",
        "\n",
        "    outputs=[\n",
        "        text_reply,  voice_reply\n",
        "    ], live = True).launch(debug = True)"
      ]
    },
    {
      "cell_type": "code",
      "execution_count": null,
      "metadata": {
        "id": "0wszcwcGys3R"
      },
      "outputs": [],
      "source": []
    }
  ],
  "metadata": {
    "accelerator": "GPU",
    "colab": {
      "provenance": []
    },
    "gpuClass": "standard",
    "kernelspec": {
      "display_name": "Python 3",
      "name": "python3"
    },
    "language_info": {
      "name": "python"
    }
  },
  "nbformat": 4,
  "nbformat_minor": 0
}
